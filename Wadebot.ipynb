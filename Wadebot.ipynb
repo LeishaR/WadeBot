{
  "nbformat": 4,
  "nbformat_minor": 0,
  "metadata": {
    "colab": {
      "provenance": [],
      "authorship_tag": "ABX9TyMgUkV9AGOCkJlsFAwP9zIf",
      "include_colab_link": true
    },
    "kernelspec": {
      "name": "python3",
      "display_name": "Python 3"
    },
    "language_info": {
      "name": "python"
    }
  },
  "cells": [
    {
      "cell_type": "markdown",
      "metadata": {
        "id": "view-in-github",
        "colab_type": "text"
      },
      "source": [
        "<a href=\"https://colab.research.google.com/github/LeishaR/WadeBot/blob/main/Wadebot.ipynb\" target=\"_parent\"><img src=\"https://colab.research.google.com/assets/colab-badge.svg\" alt=\"Open In Colab\"/></a>"
      ]
    },
    {
      "cell_type": "code",
      "source": [
        "def wadebot():\n",
        "    print(\"WadeBot: Hey there! I'm WadeBot, your chatty sidekick. How can I assist you today?\")\n",
        "\n",
        "    while True:\n",
        "        user_input = input(\"You: \").lower()\n",
        "\n",
        "        if 'hello' in user_input or 'hi' in user_input:\n",
        "            print(\"WadeBot: Hello! Ready for some snappy banter or need some help?\")\n",
        "        elif 'your name' in user_input:\n",
        "            print(\"WadeBot: I’m WadeBot, named after the one and only Wade Wilson. But you can call me Wade!\")\n",
        "        elif 'how are you' in user_input:\n",
        "            print(\"WadeBot: Feeling sharp as ever! What about you?\")\n",
        "        elif 'mlh global hack week' in user_input:\n",
        "            print(\"WadeBot: MLH Global Hack Week? It’s all about diving into AI and Machine Learning. No experience needed, just bring your curiosity!\")\n",
        "        elif 'bye bye bye' in user_input:\n",
        "            print(\"WadeBot: Ah, you’ve got great taste! Deadpool and Wolverine—what a combo! Catch you later!\")\n",
        "            break\n",
        "        else:\n",
        "            print(\"WadeBot: Hmm, that one’s a bit tricky for me. Mind rephrasing?\")\n",
        "\n",
        "if __name__ == \"__main__\":\n",
        "    wadebot()\n",
        "\n"
      ],
      "metadata": {
        "colab": {
          "base_uri": "https://localhost:8080/"
        },
        "id": "sEe4mU_gB3Dh",
        "outputId": "794505d6-efeb-406e-cb0c-71fc1f269a72"
      },
      "execution_count": null,
      "outputs": [
        {
          "output_type": "stream",
          "name": "stdout",
          "text": [
            "WadeBot: Hey there! I'm WadeBot, your chatty sidekick. How can I assist you today?\n",
            "You: hi\n",
            "WadeBot: Hello! Ready for some snappy banter or need some help?\n",
            "You: what's your name\n",
            "WadeBot: I’m WadeBot, named after the one and only Wade Wilson. But you can call me Wade!\n",
            "You: what is the mlh global hack week about?\n",
            "WadeBot: MLH Global Hack Week? It’s all about diving into AI and Machine Learning. No experience needed, just bring your curiosity!\n",
            "You: bye bye bye\n",
            "WadeBot: Ah, you’ve got great taste! Deadpool and Wolverine—what a combo! Catch you later!\n"
          ]
        }
      ]
    }
  ]
}